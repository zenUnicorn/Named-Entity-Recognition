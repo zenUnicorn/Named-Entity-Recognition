{
 "cells": [
  {
   "cell_type": "code",
   "execution_count": 98,
   "id": "7ec73e2a",
   "metadata": {},
   "outputs": [],
   "source": [
    "import spacy \n",
    "from spacy import displacy"
   ]
  },
  {
   "cell_type": "code",
   "execution_count": 112,
   "id": "37a231e4",
   "metadata": {},
   "outputs": [],
   "source": [
    "#Now we enter our sample text which we will be testing.\n",
    "\n",
    "sample_text=\"\"\"The Top 100 Companies of the World: U.S. vs Everyone. When it comes to breaking down the top 100 companies of the world, the United States still commands the largest slice of the pie.\n",
    "Throughout the 20th century and before globalization reached its current peaks, American companies made the country an economic powerhouse and the source of a majority of global market value.\n",
    "But even as countries like China have made headway with multi-billion dollar companies of their own, and the market’s most important sectors have shifted, the U.S. has managed to stay on top.\n",
    "\"\"\""
   ]
  },
  {
   "cell_type": "code",
   "execution_count": 119,
   "id": "27721356",
   "metadata": {},
   "outputs": [],
   "source": [
    "#let's load only the NER model of spacy\n",
    "\n",
    "NER = spacy.load(\"en_core_web_sm\")"
   ]
  },
  {
   "cell_type": "code",
   "execution_count": 120,
   "id": "ea4c5ed2",
   "metadata": {},
   "outputs": [],
   "source": [
    "#let us fit the model on the sample text.\n",
    "\n",
    "word = NER(sample_text)"
   ]
  },
  {
   "cell_type": "code",
   "execution_count": 123,
   "id": "a40ffdc2",
   "metadata": {},
   "outputs": [
    {
     "name": "stdout",
     "output_type": "stream",
     "text": [
      "U.S. GPE\n",
      "100 CARDINAL\n",
      "the United States GPE\n",
      "the 20th century DATE\n",
      "American NORP\n",
      "China GPE\n",
      "U.S. GPE\n"
     ]
    }
   ],
   "source": [
    "#Printing the NEs named entity found by the model in our sample text.\n",
    "\n",
    "for w in word.ents:\n",
    "    print(w.text,w.label_)\n"
   ]
  },
  {
   "cell_type": "code",
   "execution_count": 124,
   "id": "e28d8a36",
   "metadata": {},
   "outputs": [
    {
     "data": {
      "text/plain": [
       "'Countries, cities, states'"
      ]
     },
     "execution_count": 124,
     "metadata": {},
     "output_type": "execute_result"
    }
   ],
   "source": [
    "#In case you are confused about the named entity code, you can easily check it wuth the explain() method\n",
    "\n",
    "spacy.explain(\"GPE\")"
   ]
  },
  {
   "cell_type": "code",
   "execution_count": 125,
   "id": "4b157aff",
   "metadata": {},
   "outputs": [
    {
     "data": {
      "text/plain": [
       "'Absolute or relative dates or periods'"
      ]
     },
     "execution_count": 125,
     "metadata": {},
     "output_type": "execute_result"
    }
   ],
   "source": [
    "spacy.explain(\"DATE\")"
   ]
  },
  {
   "cell_type": "code",
   "execution_count": 127,
   "id": "604d872f",
   "metadata": {},
   "outputs": [
    {
     "data": {
      "text/html": [
       "<span class=\"tex2jax_ignore\"><div class=\"entities\" style=\"line-height: 2.5; direction: ltr\">The Top 100 Companies of the World: \n",
       "<mark class=\"entity\" style=\"background: #feca74; padding: 0.45em 0.6em; margin: 0 0.25em; line-height: 1; border-radius: 0.35em;\">\n",
       "    U.S.\n",
       "    <span style=\"font-size: 0.8em; font-weight: bold; line-height: 1; border-radius: 0.35em; vertical-align: middle; margin-left: 0.5rem\">GPE</span>\n",
       "</mark>\n",
       " vs Everyone. When it comes to breaking down the top \n",
       "<mark class=\"entity\" style=\"background: #e4e7d2; padding: 0.45em 0.6em; margin: 0 0.25em; line-height: 1; border-radius: 0.35em;\">\n",
       "    100\n",
       "    <span style=\"font-size: 0.8em; font-weight: bold; line-height: 1; border-radius: 0.35em; vertical-align: middle; margin-left: 0.5rem\">CARDINAL</span>\n",
       "</mark>\n",
       " companies of the world, \n",
       "<mark class=\"entity\" style=\"background: #feca74; padding: 0.45em 0.6em; margin: 0 0.25em; line-height: 1; border-radius: 0.35em;\">\n",
       "    the United States\n",
       "    <span style=\"font-size: 0.8em; font-weight: bold; line-height: 1; border-radius: 0.35em; vertical-align: middle; margin-left: 0.5rem\">GPE</span>\n",
       "</mark>\n",
       " still commands the largest slice of the pie.</br>Throughout \n",
       "<mark class=\"entity\" style=\"background: #bfe1d9; padding: 0.45em 0.6em; margin: 0 0.25em; line-height: 1; border-radius: 0.35em;\">\n",
       "    the 20th century\n",
       "    <span style=\"font-size: 0.8em; font-weight: bold; line-height: 1; border-radius: 0.35em; vertical-align: middle; margin-left: 0.5rem\">DATE</span>\n",
       "</mark>\n",
       " and before globalization reached its current peaks, \n",
       "<mark class=\"entity\" style=\"background: #c887fb; padding: 0.45em 0.6em; margin: 0 0.25em; line-height: 1; border-radius: 0.35em;\">\n",
       "    American\n",
       "    <span style=\"font-size: 0.8em; font-weight: bold; line-height: 1; border-radius: 0.35em; vertical-align: middle; margin-left: 0.5rem\">NORP</span>\n",
       "</mark>\n",
       " companies made the country an economic powerhouse and the source of a majority of global market value.</br>But even as countries like \n",
       "<mark class=\"entity\" style=\"background: #feca74; padding: 0.45em 0.6em; margin: 0 0.25em; line-height: 1; border-radius: 0.35em;\">\n",
       "    China\n",
       "    <span style=\"font-size: 0.8em; font-weight: bold; line-height: 1; border-radius: 0.35em; vertical-align: middle; margin-left: 0.5rem\">GPE</span>\n",
       "</mark>\n",
       " have made headway with multi-billion dollar companies of their own, and the market’s most important sectors have shifted, the \n",
       "<mark class=\"entity\" style=\"background: #feca74; padding: 0.45em 0.6em; margin: 0 0.25em; line-height: 1; border-radius: 0.35em;\">\n",
       "    U.S.\n",
       "    <span style=\"font-size: 0.8em; font-weight: bold; line-height: 1; border-radius: 0.35em; vertical-align: middle; margin-left: 0.5rem\">GPE</span>\n",
       "</mark>\n",
       " has managed to stay on top.</br></div></span>"
      ],
      "text/plain": [
       "<IPython.core.display.HTML object>"
      ]
     },
     "metadata": {},
     "output_type": "display_data"
    }
   ],
   "source": [
    "#lets visualize the name entities with the data using the displacy package of spacy.\n"
   ]
  },
  {
   "cell_type": "code",
   "execution_count": 118,
   "id": "66a1e748",
   "metadata": {},
   "outputs": [
    {
     "data": {
      "text/plain": [
       "'Numerals that do not fall under another type'"
      ]
     },
     "execution_count": 118,
     "metadata": {},
     "output_type": "execute_result"
    }
   ],
   "source": [
    "#So, now we can see that all the Named Entities in this particular text are extracted. \n",
    "#If, we are facing any problem regarding what type a particular NE is, we can use the following method.\n",
    "\n",
    "spacy.explain(\"CARDINAL\")"
   ]
  },
  {
   "cell_type": "code",
   "execution_count": null,
   "id": "72c50c53",
   "metadata": {},
   "outputs": [],
   "source": []
  },
  {
   "cell_type": "markdown",
   "id": "a36367a2",
   "metadata": {},
   "source": [
    "## Implementation of NER using NLTK "
   ]
  },
  {
   "cell_type": "code",
   "execution_count": null,
   "id": "a6ead346",
   "metadata": {},
   "outputs": [],
   "source": []
  }
 ],
 "metadata": {
  "kernelspec": {
   "display_name": "Python 3 (ipykernel)",
   "language": "python",
   "name": "python3"
  },
  "language_info": {
   "codemirror_mode": {
    "name": "ipython",
    "version": 3
   },
   "file_extension": ".py",
   "mimetype": "text/x-python",
   "name": "python",
   "nbconvert_exporter": "python",
   "pygments_lexer": "ipython3",
   "version": "3.7.7"
  }
 },
 "nbformat": 4,
 "nbformat_minor": 5
}
